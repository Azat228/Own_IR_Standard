{
 "cells": [
  {
   "cell_type": "code",
   "execution_count": null,
   "id": "4625209d",
   "metadata": {},
   "outputs": [
    {
     "name": "stdout",
     "output_type": "stream",
     "text": [
      "0:00:25.531279\n",
      "Cleanup complete\n"
     ]
    }
   ],
   "source": [
    "from pynq import Overlay, MMIO\n",
    "from time import sleep\n",
    "from datetime import datetime\n",
    "\n",
    "class NEC_IR_Controller:\n",
    "    def __init__(self, bitfile_path):\n",
    "        # Load the overlay\n",
    "        self.ol = Overlay(bitfile_path)\n",
    "        self.ol.download()\n",
    "        self.list_ip = []\n",
    "        self.base_ip = 0x4121_0000\n",
    "        for i in range(10):\n",
    "            self.new_ip = self.base_ip + hex(i)\n",
    "            self.list_ip.append(self.new_ip)\n",
    "        \n",
    "        # Configure GPIO addresses (adjust these to match your Vivado design)\n",
    "        self.AXI_GPIO = []\n",
    "        for i in range(10):\n",
    "            self.AXI_GPIO.append(self.list_ip[i])\n",
    "        self.send_ctrl = 0x412B_0000\n",
    "        # Initialize MMIO interfaces\n",
    "        for i in range(10):\n",
    "            self.AXI_GPIO[i] = MMIO(self.NEC_GPIO_BASE, 0x10000)\n",
    "        self.send_ctrl = MMIO(self.NEC_GPIO_BASE, 0x10000)\n",
    "        # Configure directions:\n",
    "        for i in range(10):\n",
    "            self.AXI_GPIO[i].write(0x04, 0x00000000)  # All outputs for NEC\n",
    "            self.AXI_GPIO[i].write(0x0C, 0x00000000)  # All outputs for send control\n",
    "        self.send_ctrl.write(0x04, 0x00000000)   \n",
    "               \n",
    "        # Timing parameters\n",
    "        self.NEC_HOLD_TIME = 0.02  # 20ms hold for NEC frame\n",
    "        self.BTN_PULSE_WIDTH = 0.001  # 1ms pulse width for button\n",
    "\n",
    "    def send_own_command(self, addr,cmd):\n",
    "        \"\"\"Send a 8-bit OWN command to the PL transmitter with button trigger\"\"\"\n",
    "        #clear everything\n",
    "        for i in range(10):\n",
    "            self.AXI_GPIO[i].write(0x00,0)\n",
    "            self.AXI_GPIO[i].write(0x08,0)\n",
    "        sleep(self.BTN_PULSE_WIDTH)\n",
    "        # Step 1: Write the NEC command\n",
    "        for i in range(10):\n",
    "            self.AXI_GPIO[i].write(0x00,addr[i])\n",
    "            self.AXI_GPIO[i].write(0x08,cmd[i])\n",
    "        \n",
    "        # Step 2: Pulse the button signal\n",
    "        self.send_ctrl.write(0x00, 0x1)  # Assert button\n",
    "        sleep(self.BTN_PULSE_WIDTH)\n",
    "        self.send_ctrl.write(0x00, 0x0)  # Deassert button\n",
    "        \n",
    "        # Step 3: Hold the NEC command for the required duration\n",
    "        sleep(self.NEC_HOLD_TIME)\n",
    "        \n",
    "        # Step 4: Clear the NEC command\n",
    "        for i in range(10):\n",
    "            self.AXI_GPIO[i].write(0x00,0)\n",
    "            self.AXI_GPIO[i].write(0x08,0)\n",
    "# Example usage:\n",
    "if __name__ == \"__main__\":\n",
    "    # Initialize with correct class name\n",
    "    ir = NEC_IR_Controller(\n",
    "        \"/home/xilinx/jupyter_notebooks/xilinx/overlays/own/design_1_wrapper.bit\"\n",
    "    )\n",
    "    \n",
    "    try:\n",
    "        a = datetime.now()\n",
    "        addr = [0x0000,0x0001,0x0002,0x0003,0x0004,0x0005,0x0006,0x0007,0x0008,0x0009]\n",
    "        cmd =  [0x0000,0x0001,0x0002,0x0003,0x0004,0x0005,0x0006,0x0007,0x0008,0x0009]\n",
    "        ir.send_own_command(addr,cmd)\n",
    "        print(datetime.now() - a)#estimating the time of i code sending\n",
    "            \n",
    "        \n",
    "    except Exception as e:\n",
    "        print(f\"Error: {e}\")\n",
    "    finally:\n",
    "        # Clean up GPIO states\n",
    "        ir.nec_gpio.write(0x00, 0)\n",
    "        ir.nec_gpio.write(0x08, 0)\n",
    "        print(\"Cleanup complete\")"
   ]
  },
  {
   "cell_type": "code",
   "execution_count": null,
   "id": "f529d6c0",
   "metadata": {},
   "outputs": [],
   "source": []
  },
  {
   "cell_type": "code",
   "execution_count": null,
   "id": "bc05fef4",
   "metadata": {},
   "outputs": [],
   "source": []
  },
  {
   "cell_type": "code",
   "execution_count": null,
   "id": "5cf18226",
   "metadata": {},
   "outputs": [],
   "source": []
  }
 ],
 "metadata": {
  "kernelspec": {
   "display_name": "Python 3 (ipykernel)",
   "language": "python",
   "name": "python3"
  },
  "language_info": {
   "codemirror_mode": {
    "name": "ipython",
    "version": 3
   },
   "file_extension": ".py",
   "mimetype": "text/x-python",
   "name": "python",
   "nbconvert_exporter": "python",
   "pygments_lexer": "ipython3",
   "version": "3.10.4"
  }
 },
 "nbformat": 4,
 "nbformat_minor": 5
}
